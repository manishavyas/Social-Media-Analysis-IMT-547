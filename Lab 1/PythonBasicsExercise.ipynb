{
 "cells": [
  {
   "cell_type": "markdown",
   "metadata": {},
   "source": [
    "# IMT 547 SP19 - Python Basics Exercise\n",
    "### Instructor: Li Zeng (lizeng@uw.edu) - Due: April 21, Sunday at 11:59 pm\n",
    "### Name: Manisha Vyas\n",
    "### Collaborators:"
   ]
  },
  {
   "cell_type": "markdown",
   "metadata": {},
   "source": [
    "### Instructions\n",
    "\n",
    "0. Please complete the lab tutorial which accounts for two points before you work on this exerise.\n",
    "\n",
    "1. Please write down your name and your collaborators (if any).\n",
    "\n",
    "2. In this exercise you will get hands-on experiences in importing data into structured format, summarizing data using descriptive statistics (e,g, sum, average, etc.), manipulating data including indexing, slicing and grouping, as well as visualizing data using a foundamental (but believe me also powerful) matplotlib package.\n",
    "\n",
    "3. The data you will be working with was collected from an activity-tracking platform: Strava. It is a collection of physical activities that Strava users recorded and posted on this platform. For simplicity, this exercise focuses on several selected fields. You can find the data description by reading the Strava API doc, following this link: https://developers.strava.com/docs/reference/#api-models-DetailedActivity\n",
    "\n",
    "4. For each question, please type your codes in a *Code* cell and your written response which summarizes your results in a *Markdown* cell."
   ]
  },
  {
   "cell_type": "code",
   "execution_count": 1,
   "metadata": {},
   "outputs": [],
   "source": [
    "# import packages\n",
    "import numpy as np\n",
    "import pandas as pd\n",
    "import matplotlib.pyplot as plt\n",
    "%matplotlib inline\n",
    "\n",
    "# you may import other packages if necessary"
   ]
  },
  {
   "cell_type": "markdown",
   "metadata": {},
   "source": [
    "### 1. Data Import and Data Summary"
   ]
  },
  {
   "cell_type": "markdown",
   "metadata": {},
   "source": [
    "**(a) Load the data lab_strava_activity.csv into a pandas dataframe.**"
   ]
  },
  {
   "cell_type": "code",
   "execution_count": 73,
   "metadata": {},
   "outputs": [
    {
     "data": {
      "text/html": [
       "<div>\n",
       "<style scoped>\n",
       "    .dataframe tbody tr th:only-of-type {\n",
       "        vertical-align: middle;\n",
       "    }\n",
       "\n",
       "    .dataframe tbody tr th {\n",
       "        vertical-align: top;\n",
       "    }\n",
       "\n",
       "    .dataframe thead th {\n",
       "        text-align: right;\n",
       "    }\n",
       "</style>\n",
       "<table border=\"1\" class=\"dataframe\">\n",
       "  <thead>\n",
       "    <tr style=\"text-align: right;\">\n",
       "      <th></th>\n",
       "      <th>name</th>\n",
       "      <th>athlete.sex</th>\n",
       "      <th>athlete.country</th>\n",
       "      <th>start_date_local</th>\n",
       "      <th>distance</th>\n",
       "      <th>achievement_count</th>\n",
       "      <th>type</th>\n",
       "      <th>kudos_count</th>\n",
       "    </tr>\n",
       "  </thead>\n",
       "  <tbody>\n",
       "    <tr>\n",
       "      <th>0</th>\n",
       "      <td>Mitro\"\" :)</td>\n",
       "      <td>F</td>\n",
       "      <td>Ecuador</td>\n",
       "      <td>2014-08-27T15:55:26Z</td>\n",
       "      <td>21580.0</td>\n",
       "      <td>6</td>\n",
       "      <td>Ride</td>\n",
       "      <td>0</td>\n",
       "    </tr>\n",
       "    <tr>\n",
       "      <th>1</th>\n",
       "      <td>Ochtendrit</td>\n",
       "      <td>M</td>\n",
       "      <td>The Netherlands</td>\n",
       "      <td>2015-08-04T09:25:02Z</td>\n",
       "      <td>19092.8</td>\n",
       "      <td>0</td>\n",
       "      <td>Ride</td>\n",
       "      <td>0</td>\n",
       "    </tr>\n",
       "    <tr>\n",
       "      <th>2</th>\n",
       "      <td>Enough time for a quick and hot 14</td>\n",
       "      <td>M</td>\n",
       "      <td>United States</td>\n",
       "      <td>2015-05-17T14:38:04Z</td>\n",
       "      <td>23023.4</td>\n",
       "      <td>8</td>\n",
       "      <td>Ride</td>\n",
       "      <td>4</td>\n",
       "    </tr>\n",
       "    <tr>\n",
       "      <th>3</th>\n",
       "      <td>Ilkley Grassington Buckden and back</td>\n",
       "      <td>F</td>\n",
       "      <td>United Kingdom</td>\n",
       "      <td>2014-05-26T09:20:53Z</td>\n",
       "      <td>101702.0</td>\n",
       "      <td>11</td>\n",
       "      <td>Ride</td>\n",
       "      <td>6</td>\n",
       "    </tr>\n",
       "    <tr>\n",
       "      <th>4</th>\n",
       "      <td>Morning Short hike</td>\n",
       "      <td>F</td>\n",
       "      <td>United States</td>\n",
       "      <td>2013-12-19T09:05:16Z</td>\n",
       "      <td>2739.8</td>\n",
       "      <td>0</td>\n",
       "      <td>Hike</td>\n",
       "      <td>0</td>\n",
       "    </tr>\n",
       "  </tbody>\n",
       "</table>\n",
       "</div>"
      ],
      "text/plain": [
       "                                  name athlete.sex  athlete.country  \\\n",
       "0                           Mitro\"\" :)           F          Ecuador   \n",
       "1                           Ochtendrit           M  The Netherlands   \n",
       "2   Enough time for a quick and hot 14           M    United States   \n",
       "3  Ilkley Grassington Buckden and back           F   United Kingdom   \n",
       "4                   Morning Short hike           F    United States   \n",
       "\n",
       "       start_date_local  distance  achievement_count  type  kudos_count  \n",
       "0  2014-08-27T15:55:26Z   21580.0                  6  Ride            0  \n",
       "1  2015-08-04T09:25:02Z   19092.8                  0  Ride            0  \n",
       "2  2015-05-17T14:38:04Z   23023.4                  8  Ride            4  \n",
       "3  2014-05-26T09:20:53Z  101702.0                 11  Ride            6  \n",
       "4  2013-12-19T09:05:16Z    2739.8                  0  Hike            0  "
      ]
     },
     "execution_count": 73,
     "metadata": {},
     "output_type": "execute_result"
    }
   ],
   "source": [
    "strava_data = pd.read_csv('.\\lab_strava_activity.csv')\n",
    "strava_data.head()"
   ]
  },
  {
   "cell_type": "markdown",
   "metadata": {},
   "source": [
    "**(b) It's time to get to know your data! Report the number of rows and columns in the dataset.**"
   ]
  },
  {
   "cell_type": "code",
   "execution_count": 3,
   "metadata": {},
   "outputs": [
    {
     "name": "stdout",
     "output_type": "stream",
     "text": [
      "Number of rows: 8093\n",
      "Number of columns: 8\n"
     ]
    }
   ],
   "source": [
    "print('Number of rows:',strava_data.shape[0])\n",
    "print('Number of columns:',strava_data.shape[1])"
   ]
  },
  {
   "cell_type": "markdown",
   "metadata": {},
   "source": [
    "Your written response here：<br>\n",
    "Total number of rows in lab_strava_activity data: 8093 <br>\n",
    "Total number of columns in lab_strava_activity_data: 8"
   ]
  },
  {
   "cell_type": "markdown",
   "metadata": {},
   "source": [
    "**(c) What variables does this dataset have? Report the variable names along with the data type of each variable.**"
   ]
  },
  {
   "cell_type": "code",
   "execution_count": 4,
   "metadata": {},
   "outputs": [
    {
     "name": "stdout",
     "output_type": "stream",
     "text": [
      "<class 'pandas.core.frame.DataFrame'>\n",
      "RangeIndex: 8093 entries, 0 to 8092\n",
      "Data columns (total 8 columns):\n",
      "name                 8093 non-null object\n",
      "athlete.sex          7908 non-null object\n",
      "athlete.country      7893 non-null object\n",
      "start_date_local     8093 non-null object\n",
      "distance             8093 non-null float64\n",
      "achievement_count    8093 non-null int64\n",
      "type                 8093 non-null object\n",
      "kudos_count          8093 non-null int64\n",
      "dtypes: float64(1), int64(2), object(5)\n",
      "memory usage: 505.9+ KB\n"
     ]
    }
   ],
   "source": [
    "strava_data.info()"
   ]
  },
  {
   "cell_type": "markdown",
   "metadata": {},
   "source": [
    "Your written response here：<br>\n",
    "<br>\n",
    "Variable Name (DataType): <br>\n",
    "1. name (object) <br>\n",
    "2. athlete.sex (object) <br>\n",
    "3. athlete.country (object) <br>\n",
    "4. start_date_local (object) <br>\n",
    "5. distance (float64) <br>\n",
    "6. achievement_count (int64) <br>\n",
    "7. type (object) <br>\n",
    "8. kudos_count (int64)"
   ]
  },
  {
   "cell_type": "markdown",
   "metadata": {},
   "source": [
    "### 2. Data Manipulation - Explore Achievement Count by Country"
   ]
  },
  {
   "cell_type": "markdown",
   "metadata": {},
   "source": [
    "**(a) What are the top 3 countries most Strava users are from in this dataset?**"
   ]
  },
  {
   "cell_type": "code",
   "execution_count": 5,
   "metadata": {},
   "outputs": [
    {
     "data": {
      "text/plain": [
       "athlete.country\n",
       "United States     2424\n",
       "United Kingdom    1770\n",
       "Australia          632\n",
       "Name: name, dtype: int64"
      ]
     },
     "execution_count": 5,
     "metadata": {},
     "output_type": "execute_result"
    }
   ],
   "source": [
    "top_three = strava_data.groupby(['athlete.country']).count()['name']\n",
    "top_three.sort_values(ascending=False).head(3)"
   ]
  },
  {
   "cell_type": "markdown",
   "metadata": {},
   "source": [
    "Your written response here<br>\n",
    "<br>\n",
    "Top Three countries with most number of Strava users are:\n",
    "- United States : 2424 users\n",
    "- United Kingdom : 1770 users\n",
    "- Australia : 632 users\n"
   ]
  },
  {
   "cell_type": "markdown",
   "metadata": {},
   "source": [
    "**(b) What is the total achievement count of athletes from the United States?**"
   ]
  },
  {
   "cell_type": "code",
   "execution_count": 6,
   "metadata": {},
   "outputs": [
    {
     "data": {
      "text/plain": [
       "7257"
      ]
     },
     "execution_count": 6,
     "metadata": {},
     "output_type": "execute_result"
    }
   ],
   "source": [
    "strava_data.loc[strava_data['athlete.country'] == 'United States']['achievement_count'].sum()"
   ]
  },
  {
   "cell_type": "markdown",
   "metadata": {},
   "source": [
    "Your written response here <br>\n",
    "Total achievement count of athletes from United States is 7257 \n"
   ]
  },
  {
   "cell_type": "markdown",
   "metadata": {},
   "source": [
    "**(c) What is the average achievement count of male athletes from the United Kingdom? How is it compared to the counterpart females?**"
   ]
  },
  {
   "cell_type": "code",
   "execution_count": 7,
   "metadata": {},
   "outputs": [
    {
     "name": "stdout",
     "output_type": "stream",
     "text": [
      "0.5011299435028248\n",
      "0.48192090395480225\n"
     ]
    }
   ],
   "source": [
    "print(strava_data.loc[(strava_data['athlete.country'] == 'United Kingdom') & (strava_data['athlete.sex'] == 'M')]['name'].count() / strava_data.loc[(strava_data['athlete.country'] == 'United Kingdom')]['name'].count()) \n",
    "\n",
    "print(strava_data.loc[(strava_data['athlete.country'] == 'United Kingdom') & (strava_data['athlete.sex'] == 'F')]['name'].count() / strava_data.loc[(strava_data['athlete.country'] == 'United Kingdom')]['name'].count()) \n"
   ]
  },
  {
   "cell_type": "markdown",
   "metadata": {},
   "source": [
    "Your written response here <br>\n",
    "Average achievement count for Male athletes from United Kingdom is: 0.50 approx. <br>\n",
    "Average achievement count for Female athletes from United Kingdom is: 0.48 approx.\n"
   ]
  },
  {
   "cell_type": "markdown",
   "metadata": {},
   "source": [
    "### 3. Data Manipulation - Explore Activity Type"
   ]
  },
  {
   "cell_type": "markdown",
   "metadata": {},
   "source": [
    "**(a) How many different kinds of activities are there in this data set? Report the name and the total number of completed activities for each type.**"
   ]
  },
  {
   "cell_type": "code",
   "execution_count": 13,
   "metadata": {},
   "outputs": [
    {
     "name": "stdout",
     "output_type": "stream",
     "text": [
      "['Ride' 'Hike' 'Run' 'Snowshoe' 'Walk' 'Workout' 'Swim' 'BackcountrySki'\n",
      " 'Yoga' 'NordicSki' 'VirtualRide' 'IceSkate' 'WeightTraining' 'Crossfit'\n",
      " 'AlpineSki' 'Elliptical' 'Snowboard' 'EBikeRide' 'Rowing' 'RockClimbing'\n",
      " 'Kayaking' 'StandUpPaddling']\n",
      "\n",
      "Count of unique activities: 22\n",
      "type\n",
      "AlpineSki             7\n",
      "BackcountrySki        4\n",
      "Crossfit              5\n",
      "EBikeRide             1\n",
      "Elliptical            3\n",
      "Hike                 37\n",
      "IceSkate              4\n",
      "Kayaking              3\n",
      "NordicSki            20\n",
      "Ride               4512\n",
      "RockClimbing          1\n",
      "Rowing                3\n",
      "Run                3001\n",
      "Snowboard             3\n",
      "Snowshoe              1\n",
      "StandUpPaddling       1\n",
      "Swim                178\n",
      "VirtualRide          26\n",
      "Walk                194\n",
      "WeightTraining       14\n",
      "Workout              66\n",
      "Yoga                  9\n",
      "Name: type, dtype: int64\n"
     ]
    }
   ],
   "source": [
    "print(strava_data['type'].unique())\n",
    "print('\\nCount of unique activities:',len(strava_data['type'].unique()))\n",
    "\n",
    "#Name and total number of completed activities:\n",
    "print(strava_data.groupby(['type'])['type'].count())"
   ]
  },
  {
   "cell_type": "markdown",
   "metadata": {},
   "source": [
    "Your written response here<br>\n",
    "There are a total of 22 different activties in this dataset:<br>\n",
    "- 'Ride' 'Hike' 'Run' 'Snowshoe' 'Walk' 'Workout' 'Swim' 'BackcountrySki'\n",
    "- 'Yoga' 'NordicSki' 'VirtualRide' 'IceSkate' 'WeightTraining' 'Crossfit'\n",
    "- 'AlpineSki' 'Elliptical' 'Snowboard' 'EBikeRide' 'Rowing' 'RockClimbing'\n",
    "- 'Kayaking' 'StandUpPaddling'\n",
    "<br>\n",
    "<br>\n",
    "With Ride (4512) and Run (3001) having the most number of actvities in this below is the total number of activities completed in each category:\n",
    "type\n",
    "- AlpineSki             7\n",
    "- BackcountrySki        4\n",
    "- Crossfit              5\n",
    "- EBikeRide             1\n",
    "- Elliptical            3\n",
    "- Hike                 37\n",
    "- IceSkate              4\n",
    "- Kayaking              3\n",
    "- NordicSki            20\n",
    "- Ride               4512\n",
    "- RockClimbing          1\n",
    "- Rowing                3\n",
    "- Run                3001\n",
    "- Snowboard             3\n",
    "- Snowshoe              1\n",
    "- StandUpPaddling       1\n",
    "- Swim                178\n",
    "- VirtualRide          26\n",
    "- Walk                194\n",
    "- WeightTraining       14\n",
    "- Workout              66\n",
    "- Yoga                  9"
   ]
  },
  {
   "cell_type": "markdown",
   "metadata": {},
   "source": [
    "**(b) Which type of activity do most male and female users participate in?**"
   ]
  },
  {
   "cell_type": "code",
   "execution_count": 9,
   "metadata": {},
   "outputs": [
    {
     "data": {
      "text/plain": [
       "type             athlete.sex\n",
       "AlpineSki        F                 3\n",
       "                 M                 4\n",
       "BackcountrySki   F                 3\n",
       "                 M                 1\n",
       "Crossfit         F                 1\n",
       "                 M                 4\n",
       "EBikeRide        M                 1\n",
       "Elliptical       F                 1\n",
       "                 M                 2\n",
       "Hike             F                21\n",
       "                 M                14\n",
       "IceSkate         M                 3\n",
       "Kayaking         F                 2\n",
       "                 M                 1\n",
       "NordicSki        F                12\n",
       "                 M                 8\n",
       "Ride             F              1596\n",
       "                 M              2818\n",
       "RockClimbing     F                 1\n",
       "Rowing           F                 2\n",
       "Run              F              1886\n",
       "                 M              1044\n",
       "Snowboard        F                 2\n",
       "                 M                 1\n",
       "Snowshoe         F                 1\n",
       "StandUpPaddling  F                 1\n",
       "Swim             F                90\n",
       "                 M                82\n",
       "VirtualRide      F                 7\n",
       "                 M                19\n",
       "Walk             F               138\n",
       "                 M                51\n",
       "WeightTraining   F                 9\n",
       "                 M                 5\n",
       "Workout          F                40\n",
       "                 M                25\n",
       "Yoga             F                 8\n",
       "                 M                 1\n",
       "Name: athlete.sex, dtype: int64"
      ]
     },
     "execution_count": 9,
     "metadata": {},
     "output_type": "execute_result"
    }
   ],
   "source": [
    "strava_data.groupby(['type','athlete.sex'])['athlete.sex'].count()"
   ]
  },
  {
   "cell_type": "markdown",
   "metadata": {},
   "source": [
    "Your written response here<br>\n",
    "Males participate most in Ride activity (2818) while females participate most in Run activity (1886)."
   ]
  },
  {
   "cell_type": "markdown",
   "metadata": {},
   "source": [
    "**(c) What is the average distance covered by users for each type of activity?**"
   ]
  },
  {
   "cell_type": "code",
   "execution_count": 14,
   "metadata": {},
   "outputs": [
    {
     "name": "stdout",
     "output_type": "stream",
     "text": [
      "type\n",
      "AlpineSki          30430.657143\n",
      "BackcountrySki      6390.875000\n",
      "Crossfit            2952.600000\n",
      "EBikeRide           7315.700000\n",
      "Elliptical          4436.966667\n",
      "Hike                6812.375676\n",
      "IceSkate           11122.950000\n",
      "Kayaking            5170.033333\n",
      "NordicSki          15314.775000\n",
      "Ride               33102.721121\n",
      "RockClimbing           0.000000\n",
      "Rowing              7558.400000\n",
      "Run                 7874.806131\n",
      "Snowboard          20426.433333\n",
      "Snowshoe            3369.600000\n",
      "StandUpPaddling     6816.300000\n",
      "Swim                2303.249438\n",
      "VirtualRide        23320.523077\n",
      "Walk                5024.981959\n",
      "WeightTraining        73.364286\n",
      "Workout             1869.342424\n",
      "Yoga                  21.111111\n",
      "Name: distance, dtype: float64\n"
     ]
    }
   ],
   "source": [
    "print(strava_data.groupby(['type'])['distance'].mean())"
   ]
  },
  {
   "cell_type": "markdown",
   "metadata": {},
   "source": [
    "Your written response here<br>\n",
    "The above table display the average distance covered by the users with Rock Climbing having lowest average (0.00) and Ride having the highest average distance (33102.72)."
   ]
  },
  {
   "cell_type": "markdown",
   "metadata": {},
   "source": [
    "### 4. Basic Visualization"
   ]
  },
  {
   "cell_type": "markdown",
   "metadata": {},
   "source": [
    "**(a) How is the number of kudos received by male users different from female users? Create a visualization in support of your answer.**"
   ]
  },
  {
   "cell_type": "code",
   "execution_count": 15,
   "metadata": {},
   "outputs": [
    {
     "name": "stdout",
     "output_type": "stream",
     "text": [
      "athlete.sex\n",
      "F    3824\n",
      "M    4084\n",
      "Name: kudos_count, dtype: int64\n"
     ]
    },
    {
     "data": {
      "text/plain": [
       "Text(0, 0.5, 'Count')"
      ]
     },
     "execution_count": 15,
     "metadata": {},
     "output_type": "execute_result"
    },
    {
     "data": {
      "image/png": "[encoded data removed]",
      "text/plain": [
       "<Figure size 432x288 with 1 Axes>"
      ]
     },
     "metadata": {
      "needs_background": "light"
     },
     "output_type": "display_data"
    }
   ],
   "source": [
    "x = strava_data.groupby(['athlete.sex'])['kudos_count'].count()\n",
    "print(x)\n",
    "plt.bar(x.index,x.values)\n",
    "plt.title('# of Kudos: Male Vs Female')\n",
    "plt.xlabel('Athlete Gender')\n",
    "plt.ylabel('Count')"
   ]
  },
  {
   "cell_type": "markdown",
   "metadata": {},
   "source": [
    "Your written response here<br>\n",
    "Number of kudos received by males users is higher as compared to the female users as it can be seen in the visualization above. With Females getting 3824 and males getting 4084 kudos."
   ]
  },
  {
   "cell_type": "markdown",
   "metadata": {},
   "source": [
    "**(b) Finally, let's explore the best time of day to exercise. Create a visualization to show the diurnal patterns of exercise.**"
   ]
  },
  {
   "cell_type": "code",
   "execution_count": 87,
   "metadata": {},
   "outputs": [
    {
     "name": "stderr",
     "output_type": "stream",
     "text": [
      "C:\\Users\\Manisha\\Anaconda3\\lib\\site-packages\\ipykernel_launcher.py:2: SettingWithCopyWarning: \n",
      "A value is trying to be set on a copy of a slice from a DataFrame.\n",
      "Try using .loc[row_indexer,col_indexer] = value instead\n",
      "\n",
      "See the caveats in the documentation: http://pandas.pydata.org/pandas-docs/stable/indexing.html#indexing-view-versus-copy\n",
      "  \n",
      "C:\\Users\\Manisha\\Anaconda3\\lib\\site-packages\\ipykernel_launcher.py:3: SettingWithCopyWarning: \n",
      "A value is trying to be set on a copy of a slice from a DataFrame.\n",
      "Try using .loc[row_indexer,col_indexer] = value instead\n",
      "\n",
      "See the caveats in the documentation: http://pandas.pydata.org/pandas-docs/stable/indexing.html#indexing-view-versus-copy\n",
      "  This is separate from the ipykernel package so we can avoid doing imports until\n"
     ]
    },
    {
     "data": {
      "text/plain": [
       "Text(0.5, 0, 'Hour of the day')"
      ]
     },
     "execution_count": 87,
     "metadata": {},
     "output_type": "execute_result"
    },
    {
     "data": {
      "image/png": "[encoded data removed]",
      "text/plain": [
       "<Figure size 432x288 with 1 Axes>"
      ]
     },
     "metadata": {
      "needs_background": "light"
     },
     "output_type": "display_data"
    }
   ],
   "source": [
    "df = strava_data.loc[strava_data['type'] == 'Workout']\n",
    "df['start_time_local'] = df['start_date_local'].str.split('T',expand=True)[1]\n",
    "df['start_time_local_hour'] = df['start_time_local'].str.split(':',expand=True)[0]\n",
    "\n",
    "df = df.groupby(['start_time_local_hour'])['type'].count()\n",
    "plt.plot(df)\n",
    "plt.grid(True)\n",
    "plt.title('Diurnal pattern for workout')\n",
    "plt.ylabel('Count of users')\n",
    "plt.xlabel('Hour of the day')"
   ]
  },
  {
   "cell_type": "markdown",
   "metadata": {},
   "source": [
    "Your written response here<br>\n",
    "From the visualization above, we see that athletes workout the most between 5am - 7am in the morning with the peak at 6am. Then we see a smaller peak at around 10 am in the moring followed by around 3 pm and 5 pm in the afternoon and evening respectively."
   ]
  },
  {
   "cell_type": "markdown",
   "metadata": {},
   "source": [
    "### 5. Discussion\n",
    "\n",
    "Congratulations! You just completed all heavy coding and got a taste of exploratory data analysis! You should feel confident (at least for now) in working with data using Python! As we have done with the coding part, I want to ask you a couple of final questions:\n",
    "\n",
    "**Do you have any concerns with the quality of this data set? Whether and how does any data quality issue affect your analysis?**"
   ]
  },
  {
   "cell_type": "markdown",
   "metadata": {},
   "source": [
    "Your discussion here<br>\n",
    "For the answering the questions above, this dataset was sufficient other than having specifically marked exercise as workout or all the activities mentioned in the dataset and also what would compute as completed activity. It would have been interesting to see some other features in the dataset which would help us answer additional research questions such effect of weather on an athlete going for a workout, regional information about the user, sub-categories within a category or type of activity."
   ]
  },
  {
   "cell_type": "code",
   "execution_count": null,
   "metadata": {},
   "outputs": [],
   "source": []
  }
 ],
 "metadata": {
  "kernelspec": {
   "display_name": "Python 3",
   "language": "python",
   "name": "python3"
  },
  "language_info": {
   "codemirror_mode": {
    "name": "ipython",
    "version": 3
   },
   "file_extension": ".py",
   "mimetype": "text/x-python",
   "name": "python",
   "nbconvert_exporter": "python",
   "pygments_lexer": "ipython3",
   "version": "3.6.8"
  }
 },
 "nbformat": 4,
 "nbformat_minor": 2
}
