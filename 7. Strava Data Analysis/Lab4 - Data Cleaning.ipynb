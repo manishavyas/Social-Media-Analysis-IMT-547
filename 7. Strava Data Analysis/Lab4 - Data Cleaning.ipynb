{
 "cells": [
  {
   "cell_type": "markdown",
   "metadata": {},
   "source": [
    "# Lab 4: Data Cleaning\n",
    "\n",
    "# Instructor: Li Zeng (lizeng@uw.edu)\n",
    "\n",
    "\n",
    "Learning Objectives:\n",
    "\n",
    "By the end of the lab, you will be able to:\n",
    "1. Report missing values and deal with them.\n",
    "2. Convert one datatype to another\n",
    "3. Detect outliers and deal with them\n",
    "4. Get clean text and extract required information\n",
    "5. Use Regular Expressions"
   ]
  },
  {
   "cell_type": "markdown",
   "metadata": {},
   "source": [
    "### Import Data"
   ]
  },
  {
   "cell_type": "code",
   "execution_count": 1,
   "metadata": {},
   "outputs": [],
   "source": [
    "import pandas as pd\n",
    "import numpy as np\n",
    "import matplotlib.pyplot as plt\n",
    "%matplotlib inline\n",
    "import re"
   ]
  },
  {
   "cell_type": "code",
   "execution_count": 2,
   "metadata": {},
   "outputs": [],
   "source": [
    "# Read from csv file\n",
    "original_strava_df = pd.read_csv('strava_activity.csv')\n",
    "# Let's make a copy of the original strava df and make sure we don't overwrite the original copy\n",
    "strava_df = original_strava_df.copy()"
   ]
  },
  {
   "cell_type": "markdown",
   "metadata": {},
   "source": [
    "### What does the data look like?"
   ]
  },
  {
   "cell_type": "code",
   "execution_count": 3,
   "metadata": {},
   "outputs": [
    {
     "data": {
      "text/plain": [
       "(8093, 53)"
      ]
     },
     "execution_count": 3,
     "metadata": {},
     "output_type": "execute_result"
    }
   ],
   "source": [
    "# What is the size of this dataset?\n",
    "strava_df.shape"
   ]
  },
  {
   "cell_type": "code",
   "execution_count": 4,
   "metadata": {},
   "outputs": [
    {
     "data": {
      "text/html": [
       "<div>\n",
       "<style scoped>\n",
       "    .dataframe tbody tr th:only-of-type {\n",
       "        vertical-align: middle;\n",
       "    }\n",
       "\n",
       "    .dataframe tbody tr th {\n",
       "        vertical-align: top;\n",
       "    }\n",
       "\n",
       "    .dataframe thead th {\n",
       "        text-align: right;\n",
       "    }\n",
       "</style>\n",
       "<table border=\"1\" class=\"dataframe\">\n",
       "  <thead>\n",
       "    <tr style=\"text-align: right;\">\n",
       "      <th></th>\n",
       "      <th>achievement_count</th>\n",
       "      <th>athlete.badge_type_id</th>\n",
       "      <th>athlete.city</th>\n",
       "      <th>athlete.country</th>\n",
       "      <th>athlete.premium</th>\n",
       "      <th>athlete.resource_state</th>\n",
       "      <th>athlete.sex</th>\n",
       "      <th>athlete.state</th>\n",
       "      <th>athlete_count</th>\n",
       "      <th>average_cadence</th>\n",
       "      <th>...</th>\n",
       "      <th>start_latlng</th>\n",
       "      <th>start_longitude</th>\n",
       "      <th>suffer_score</th>\n",
       "      <th>timezone</th>\n",
       "      <th>total_elevation_gain</th>\n",
       "      <th>total_photo_count</th>\n",
       "      <th>trainer</th>\n",
       "      <th>type</th>\n",
       "      <th>weighted_average_watts</th>\n",
       "      <th>workout_type</th>\n",
       "    </tr>\n",
       "  </thead>\n",
       "  <tbody>\n",
       "    <tr>\n",
       "      <th>0</th>\n",
       "      <td>6</td>\n",
       "      <td>0</td>\n",
       "      <td>Quito</td>\n",
       "      <td>Ecuador</td>\n",
       "      <td>0</td>\n",
       "      <td>2</td>\n",
       "      <td>F</td>\n",
       "      <td>Pichincha</td>\n",
       "      <td>3</td>\n",
       "      <td>NaN</td>\n",
       "      <td>...</td>\n",
       "      <td>[-0.17 -78.49]</td>\n",
       "      <td>-78.49</td>\n",
       "      <td>NaN</td>\n",
       "      <td>(GMT-05:00) America/Guayaquil</td>\n",
       "      <td>476.3</td>\n",
       "      <td>0</td>\n",
       "      <td>0</td>\n",
       "      <td>Ride</td>\n",
       "      <td>NaN</td>\n",
       "      <td>NaN</td>\n",
       "    </tr>\n",
       "    <tr>\n",
       "      <th>1</th>\n",
       "      <td>0</td>\n",
       "      <td>0</td>\n",
       "      <td>Oisterwijk</td>\n",
       "      <td>The Netherlands</td>\n",
       "      <td>0</td>\n",
       "      <td>2</td>\n",
       "      <td>M</td>\n",
       "      <td>NB</td>\n",
       "      <td>1</td>\n",
       "      <td>NaN</td>\n",
       "      <td>...</td>\n",
       "      <td>[38.68 0.09]</td>\n",
       "      <td>0.09</td>\n",
       "      <td>NaN</td>\n",
       "      <td>(GMT+01:00) Europe/Madrid</td>\n",
       "      <td>456.9</td>\n",
       "      <td>0</td>\n",
       "      <td>0</td>\n",
       "      <td>Ride</td>\n",
       "      <td>NaN</td>\n",
       "      <td>0.0</td>\n",
       "    </tr>\n",
       "    <tr>\n",
       "      <th>2</th>\n",
       "      <td>8</td>\n",
       "      <td>0</td>\n",
       "      <td>Ypsilanti</td>\n",
       "      <td>United States</td>\n",
       "      <td>0</td>\n",
       "      <td>2</td>\n",
       "      <td>M</td>\n",
       "      <td>MI</td>\n",
       "      <td>2</td>\n",
       "      <td>NaN</td>\n",
       "      <td>...</td>\n",
       "      <td>[42.42 -83.96]</td>\n",
       "      <td>-83.96</td>\n",
       "      <td>NaN</td>\n",
       "      <td>(GMT-05:00) America/Detroit</td>\n",
       "      <td>292.2</td>\n",
       "      <td>0</td>\n",
       "      <td>0</td>\n",
       "      <td>Ride</td>\n",
       "      <td>NaN</td>\n",
       "      <td>NaN</td>\n",
       "    </tr>\n",
       "    <tr>\n",
       "      <th>3</th>\n",
       "      <td>11</td>\n",
       "      <td>1</td>\n",
       "      <td>Harrogate</td>\n",
       "      <td>United Kingdom</td>\n",
       "      <td>1</td>\n",
       "      <td>2</td>\n",
       "      <td>F</td>\n",
       "      <td>England</td>\n",
       "      <td>2</td>\n",
       "      <td>NaN</td>\n",
       "      <td>...</td>\n",
       "      <td>[53.93 -1.82]</td>\n",
       "      <td>-1.82</td>\n",
       "      <td>NaN</td>\n",
       "      <td>(GMT+00:00) Europe/London</td>\n",
       "      <td>1273.3</td>\n",
       "      <td>0</td>\n",
       "      <td>0</td>\n",
       "      <td>Ride</td>\n",
       "      <td>NaN</td>\n",
       "      <td>0.0</td>\n",
       "    </tr>\n",
       "    <tr>\n",
       "      <th>4</th>\n",
       "      <td>0</td>\n",
       "      <td>0</td>\n",
       "      <td>Alamo</td>\n",
       "      <td>United States</td>\n",
       "      <td>0</td>\n",
       "      <td>2</td>\n",
       "      <td>F</td>\n",
       "      <td>CA</td>\n",
       "      <td>1</td>\n",
       "      <td>NaN</td>\n",
       "      <td>...</td>\n",
       "      <td>[37.86 -121.97]</td>\n",
       "      <td>-121.97</td>\n",
       "      <td>NaN</td>\n",
       "      <td>(GMT-08:00) America/Los_Angeles</td>\n",
       "      <td>166.6</td>\n",
       "      <td>0</td>\n",
       "      <td>0</td>\n",
       "      <td>Hike</td>\n",
       "      <td>NaN</td>\n",
       "      <td>NaN</td>\n",
       "    </tr>\n",
       "  </tbody>\n",
       "</table>\n",
       "<p>5 rows × 53 columns</p>\n",
       "</div>"
      ],
      "text/plain": [
       "   achievement_count  athlete.badge_type_id athlete.city  athlete.country  \\\n",
       "0                  6                      0        Quito          Ecuador   \n",
       "1                  0                      0   Oisterwijk  The Netherlands   \n",
       "2                  8                      0    Ypsilanti    United States   \n",
       "3                 11                      1    Harrogate   United Kingdom   \n",
       "4                  0                      0        Alamo    United States   \n",
       "\n",
       "   athlete.premium  athlete.resource_state athlete.sex athlete.state  \\\n",
       "0                0                       2           F     Pichincha   \n",
       "1                0                       2           M            NB   \n",
       "2                0                       2           M            MI   \n",
       "3                1                       2           F       England   \n",
       "4                0                       2           F            CA   \n",
       "\n",
       "   athlete_count  average_cadence  ...     start_latlng  start_longitude  \\\n",
       "0              3              NaN  ...   [-0.17 -78.49]           -78.49   \n",
       "1              1              NaN  ...     [38.68 0.09]             0.09   \n",
       "2              2              NaN  ...   [42.42 -83.96]           -83.96   \n",
       "3              2              NaN  ...    [53.93 -1.82]            -1.82   \n",
       "4              1              NaN  ...  [37.86 -121.97]          -121.97   \n",
       "\n",
       "   suffer_score                         timezone  total_elevation_gain  \\\n",
       "0           NaN    (GMT-05:00) America/Guayaquil                 476.3   \n",
       "1           NaN        (GMT+01:00) Europe/Madrid                 456.9   \n",
       "2           NaN      (GMT-05:00) America/Detroit                 292.2   \n",
       "3           NaN        (GMT+00:00) Europe/London                1273.3   \n",
       "4           NaN  (GMT-08:00) America/Los_Angeles                 166.6   \n",
       "\n",
       "   total_photo_count  trainer  type  weighted_average_watts  workout_type  \n",
       "0                  0        0  Ride                     NaN           NaN  \n",
       "1                  0        0  Ride                     NaN           0.0  \n",
       "2                  0        0  Ride                     NaN           NaN  \n",
       "3                  0        0  Ride                     NaN           0.0  \n",
       "4                  0        0  Hike                     NaN           NaN  \n",
       "\n",
       "[5 rows x 53 columns]"
      ]
     },
     "execution_count": 4,
     "metadata": {},
     "output_type": "execute_result"
    }
   ],
   "source": [
    "# A quick look at the raw data\n",
    "strava_df.head()"
   ]
  },
  {
   "cell_type": "code",
   "execution_count": 5,
   "metadata": {},
   "outputs": [
    {
     "data": {
      "text/plain": [
       "achievement_count           int64\n",
       "athlete.badge_type_id       int64\n",
       "athlete.city               object\n",
       "athlete.country            object\n",
       "athlete.premium             int64\n",
       "athlete.resource_state      int64\n",
       "athlete.sex                object\n",
       "athlete.state              object\n",
       "athlete_count               int64\n",
       "average_cadence           float64\n",
       "average_heartrate         float64\n",
       "average_speed             float64\n",
       "average_temp              float64\n",
       "average_watts             float64\n",
       "comment_count               int64\n",
       "commute                     int64\n",
       "device_watts              float64\n",
       "distance                  float64\n",
       "elapsed_time                int64\n",
       "elev_high                 float64\n",
       "elev_low                  float64\n",
       "end_latlng                 object\n",
       "flagged                     int64\n",
       "gear_id                    object\n",
       "has_heartrate             float64\n",
       "has_kudoed                  int64\n",
       "kilojoules                float64\n",
       "kudos_count                 int64\n",
       "location_city              object\n",
       "location_country           object\n",
       "location_state             object\n",
       "manual                      int64\n",
       "max_heartrate             float64\n",
       "max_speed                 float64\n",
       "max_watts                 float64\n",
       "moving_time                 int64\n",
       "name                       object\n",
       "photo_count                 int64\n",
       "private                     int64\n",
       "resource_state              int64\n",
       "start_date                 object\n",
       "start_date_local           object\n",
       "start_latitude            float64\n",
       "start_latlng               object\n",
       "start_longitude           float64\n",
       "suffer_score              float64\n",
       "timezone                   object\n",
       "total_elevation_gain      float64\n",
       "total_photo_count           int64\n",
       "trainer                     int64\n",
       "type                       object\n",
       "weighted_average_watts    float64\n",
       "workout_type              float64\n",
       "dtype: object"
      ]
     },
     "execution_count": 5,
     "metadata": {},
     "output_type": "execute_result"
    }
   ],
   "source": [
    "# Examine the type of each variable\n",
    "strava_df.dtypes"
   ]
  },
  {
   "cell_type": "code",
   "execution_count": 6,
   "metadata": {},
   "outputs": [
    {
     "data": {
      "text/html": [
       "<div>\n",
       "<style scoped>\n",
       "    .dataframe tbody tr th:only-of-type {\n",
       "        vertical-align: middle;\n",
       "    }\n",
       "\n",
       "    .dataframe tbody tr th {\n",
       "        vertical-align: top;\n",
       "    }\n",
       "\n",
       "    .dataframe thead th {\n",
       "        text-align: right;\n",
       "    }\n",
       "</style>\n",
       "<table border=\"1\" class=\"dataframe\">\n",
       "  <thead>\n",
       "    <tr style=\"text-align: right;\">\n",
       "      <th></th>\n",
       "      <th>achievement_count</th>\n",
       "      <th>athlete.badge_type_id</th>\n",
       "      <th>athlete.premium</th>\n",
       "      <th>athlete.resource_state</th>\n",
       "      <th>athlete_count</th>\n",
       "      <th>average_cadence</th>\n",
       "      <th>average_heartrate</th>\n",
       "      <th>average_speed</th>\n",
       "      <th>average_temp</th>\n",
       "      <th>average_watts</th>\n",
       "      <th>...</th>\n",
       "      <th>private</th>\n",
       "      <th>resource_state</th>\n",
       "      <th>start_latitude</th>\n",
       "      <th>start_longitude</th>\n",
       "      <th>suffer_score</th>\n",
       "      <th>total_elevation_gain</th>\n",
       "      <th>total_photo_count</th>\n",
       "      <th>trainer</th>\n",
       "      <th>weighted_average_watts</th>\n",
       "      <th>workout_type</th>\n",
       "    </tr>\n",
       "  </thead>\n",
       "  <tbody>\n",
       "    <tr>\n",
       "      <th>count</th>\n",
       "      <td>8093.000000</td>\n",
       "      <td>8093.000000</td>\n",
       "      <td>8093.000000</td>\n",
       "      <td>8093.0</td>\n",
       "      <td>8093.000000</td>\n",
       "      <td>1666.000000</td>\n",
       "      <td>1929.000000</td>\n",
       "      <td>8093.000000</td>\n",
       "      <td>1528.000000</td>\n",
       "      <td>3884.000000</td>\n",
       "      <td>...</td>\n",
       "      <td>8093.0</td>\n",
       "      <td>8093.0</td>\n",
       "      <td>7432.000000</td>\n",
       "      <td>7432.000000</td>\n",
       "      <td>682.000000</td>\n",
       "      <td>8093.000000</td>\n",
       "      <td>8093.000000</td>\n",
       "      <td>8093.000000</td>\n",
       "      <td>309.000000</td>\n",
       "      <td>3486.000000</td>\n",
       "    </tr>\n",
       "    <tr>\n",
       "      <th>mean</th>\n",
       "      <td>3.841715</td>\n",
       "      <td>0.207093</td>\n",
       "      <td>0.203262</td>\n",
       "      <td>2.0</td>\n",
       "      <td>2.027555</td>\n",
       "      <td>77.380852</td>\n",
       "      <td>138.369311</td>\n",
       "      <td>4.776164</td>\n",
       "      <td>16.852094</td>\n",
       "      <td>129.217817</td>\n",
       "      <td>...</td>\n",
       "      <td>0.0</td>\n",
       "      <td>2.0</td>\n",
       "      <td>32.468071</td>\n",
       "      <td>-15.664773</td>\n",
       "      <td>71.890029</td>\n",
       "      <td>225.484765</td>\n",
       "      <td>0.076980</td>\n",
       "      <td>0.043989</td>\n",
       "      <td>182.323625</td>\n",
       "      <td>1.216007</td>\n",
       "    </tr>\n",
       "    <tr>\n",
       "      <th>std</th>\n",
       "      <td>8.710141</td>\n",
       "      <td>0.421686</td>\n",
       "      <td>0.402451</td>\n",
       "      <td>0.0</td>\n",
       "      <td>8.495287</td>\n",
       "      <td>16.753410</td>\n",
       "      <td>23.334950</td>\n",
       "      <td>23.155401</td>\n",
       "      <td>7.799240</td>\n",
       "      <td>54.808192</td>\n",
       "      <td>...</td>\n",
       "      <td>0.0</td>\n",
       "      <td>0.0</td>\n",
       "      <td>28.494918</td>\n",
       "      <td>77.450225</td>\n",
       "      <td>66.407220</td>\n",
       "      <td>645.911446</td>\n",
       "      <td>0.464648</td>\n",
       "      <td>0.205082</td>\n",
       "      <td>51.676492</td>\n",
       "      <td>3.104601</td>\n",
       "    </tr>\n",
       "    <tr>\n",
       "      <th>min</th>\n",
       "      <td>0.000000</td>\n",
       "      <td>0.000000</td>\n",
       "      <td>0.000000</td>\n",
       "      <td>2.0</td>\n",
       "      <td>1.000000</td>\n",
       "      <td>0.000000</td>\n",
       "      <td>0.000000</td>\n",
       "      <td>0.000000</td>\n",
       "      <td>-23.000000</td>\n",
       "      <td>0.000000</td>\n",
       "      <td>...</td>\n",
       "      <td>0.0</td>\n",
       "      <td>2.0</td>\n",
       "      <td>-46.400000</td>\n",
       "      <td>-158.060000</td>\n",
       "      <td>0.000000</td>\n",
       "      <td>0.000000</td>\n",
       "      <td>0.000000</td>\n",
       "      <td>0.000000</td>\n",
       "      <td>43.000000</td>\n",
       "      <td>0.000000</td>\n",
       "    </tr>\n",
       "    <tr>\n",
       "      <th>25%</th>\n",
       "      <td>0.000000</td>\n",
       "      <td>0.000000</td>\n",
       "      <td>0.000000</td>\n",
       "      <td>2.0</td>\n",
       "      <td>1.000000</td>\n",
       "      <td>73.300000</td>\n",
       "      <td>128.000000</td>\n",
       "      <td>2.647000</td>\n",
       "      <td>11.000000</td>\n",
       "      <td>92.200000</td>\n",
       "      <td>...</td>\n",
       "      <td>0.0</td>\n",
       "      <td>2.0</td>\n",
       "      <td>33.480000</td>\n",
       "      <td>-80.675000</td>\n",
       "      <td>30.000000</td>\n",
       "      <td>10.700000</td>\n",
       "      <td>0.000000</td>\n",
       "      <td>0.000000</td>\n",
       "      <td>148.000000</td>\n",
       "      <td>0.000000</td>\n",
       "    </tr>\n",
       "    <tr>\n",
       "      <th>50%</th>\n",
       "      <td>1.000000</td>\n",
       "      <td>0.000000</td>\n",
       "      <td>0.000000</td>\n",
       "      <td>2.0</td>\n",
       "      <td>1.000000</td>\n",
       "      <td>80.700000</td>\n",
       "      <td>141.700000</td>\n",
       "      <td>3.790000</td>\n",
       "      <td>17.000000</td>\n",
       "      <td>126.500000</td>\n",
       "      <td>...</td>\n",
       "      <td>0.0</td>\n",
       "      <td>2.0</td>\n",
       "      <td>42.350000</td>\n",
       "      <td>-2.160000</td>\n",
       "      <td>56.000000</td>\n",
       "      <td>63.700000</td>\n",
       "      <td>0.000000</td>\n",
       "      <td>0.000000</td>\n",
       "      <td>179.000000</td>\n",
       "      <td>0.000000</td>\n",
       "    </tr>\n",
       "    <tr>\n",
       "      <th>75%</th>\n",
       "      <td>4.000000</td>\n",
       "      <td>0.000000</td>\n",
       "      <td>0.000000</td>\n",
       "      <td>2.0</td>\n",
       "      <td>1.000000</td>\n",
       "      <td>85.900000</td>\n",
       "      <td>152.000000</td>\n",
       "      <td>6.379000</td>\n",
       "      <td>22.000000</td>\n",
       "      <td>161.125000</td>\n",
       "      <td>...</td>\n",
       "      <td>0.0</td>\n",
       "      <td>2.0</td>\n",
       "      <td>51.470000</td>\n",
       "      <td>7.705000</td>\n",
       "      <td>91.000000</td>\n",
       "      <td>246.600000</td>\n",
       "      <td>0.000000</td>\n",
       "      <td>0.000000</td>\n",
       "      <td>215.000000</td>\n",
       "      <td>0.000000</td>\n",
       "    </tr>\n",
       "    <tr>\n",
       "      <th>max</th>\n",
       "      <td>135.000000</td>\n",
       "      <td>4.000000</td>\n",
       "      <td>1.000000</td>\n",
       "      <td>2.0</td>\n",
       "      <td>424.000000</td>\n",
       "      <td>210.300000</td>\n",
       "      <td>199.200000</td>\n",
       "      <td>1888.900000</td>\n",
       "      <td>41.000000</td>\n",
       "      <td>506.600000</td>\n",
       "      <td>...</td>\n",
       "      <td>0.0</td>\n",
       "      <td>2.0</td>\n",
       "      <td>69.960000</td>\n",
       "      <td>176.390000</td>\n",
       "      <td>697.000000</td>\n",
       "      <td>19803.000000</td>\n",
       "      <td>11.000000</td>\n",
       "      <td>1.000000</td>\n",
       "      <td>330.000000</td>\n",
       "      <td>12.000000</td>\n",
       "    </tr>\n",
       "  </tbody>\n",
       "</table>\n",
       "<p>8 rows × 38 columns</p>\n",
       "</div>"
      ],
      "text/plain": [
       "       achievement_count  athlete.badge_type_id  athlete.premium  \\\n",
       "count        8093.000000            8093.000000      8093.000000   \n",
       "mean            3.841715               0.207093         0.203262   \n",
       "std             8.710141               0.421686         0.402451   \n",
       "min             0.000000               0.000000         0.000000   \n",
       "25%             0.000000               0.000000         0.000000   \n",
       "50%             1.000000               0.000000         0.000000   \n",
       "75%             4.000000               0.000000         0.000000   \n",
       "max           135.000000               4.000000         1.000000   \n",
       "\n",
       "       athlete.resource_state  athlete_count  average_cadence  \\\n",
       "count                  8093.0    8093.000000      1666.000000   \n",
       "mean                      2.0       2.027555        77.380852   \n",
       "std                       0.0       8.495287        16.753410   \n",
       "min                       2.0       1.000000         0.000000   \n",
       "25%                       2.0       1.000000        73.300000   \n",
       "50%                       2.0       1.000000        80.700000   \n",
       "75%                       2.0       1.000000        85.900000   \n",
       "max                       2.0     424.000000       210.300000   \n",
       "\n",
       "       average_heartrate  average_speed  average_temp  average_watts  ...  \\\n",
       "count        1929.000000    8093.000000   1528.000000    3884.000000  ...   \n",
       "mean          138.369311       4.776164     16.852094     129.217817  ...   \n",
       "std            23.334950      23.155401      7.799240      54.808192  ...   \n",
       "min             0.000000       0.000000    -23.000000       0.000000  ...   \n",
       "25%           128.000000       2.647000     11.000000      92.200000  ...   \n",
       "50%           141.700000       3.790000     17.000000     126.500000  ...   \n",
       "75%           152.000000       6.379000     22.000000     161.125000  ...   \n",
       "max           199.200000    1888.900000     41.000000     506.600000  ...   \n",
       "\n",
       "       private  resource_state  start_latitude  start_longitude  suffer_score  \\\n",
       "count   8093.0          8093.0     7432.000000      7432.000000    682.000000   \n",
       "mean       0.0             2.0       32.468071       -15.664773     71.890029   \n",
       "std        0.0             0.0       28.494918        77.450225     66.407220   \n",
       "min        0.0             2.0      -46.400000      -158.060000      0.000000   \n",
       "25%        0.0             2.0       33.480000       -80.675000     30.000000   \n",
       "50%        0.0             2.0       42.350000        -2.160000     56.000000   \n",
       "75%        0.0             2.0       51.470000         7.705000     91.000000   \n",
       "max        0.0             2.0       69.960000       176.390000    697.000000   \n",
       "\n",
       "       total_elevation_gain  total_photo_count      trainer  \\\n",
       "count           8093.000000        8093.000000  8093.000000   \n",
       "mean             225.484765           0.076980     0.043989   \n",
       "std              645.911446           0.464648     0.205082   \n",
       "min                0.000000           0.000000     0.000000   \n",
       "25%               10.700000           0.000000     0.000000   \n",
       "50%               63.700000           0.000000     0.000000   \n",
       "75%              246.600000           0.000000     0.000000   \n",
       "max            19803.000000          11.000000     1.000000   \n",
       "\n",
       "       weighted_average_watts  workout_type  \n",
       "count              309.000000   3486.000000  \n",
       "mean               182.323625      1.216007  \n",
       "std                 51.676492      3.104601  \n",
       "min                 43.000000      0.000000  \n",
       "25%                148.000000      0.000000  \n",
       "50%                179.000000      0.000000  \n",
       "75%                215.000000      0.000000  \n",
       "max                330.000000     12.000000  \n",
       "\n",
       "[8 rows x 38 columns]"
      ]
     },
     "execution_count": 6,
     "metadata": {},
     "output_type": "execute_result"
    }
   ],
   "source": [
    "# Check descriptive statistics of each column variable\n",
    "strava_df.describe()"
   ]
  },
  {
   "cell_type": "markdown",
   "metadata": {},
   "source": [
    "### Deal with Missing Values"
   ]
  },
  {
   "cell_type": "code",
   "execution_count": 7,
   "metadata": {},
   "outputs": [
    {
     "data": {
      "text/plain": [
       "M      4084\n",
       "F      3824\n",
       "NaN     185\n",
       "Name: athlete.sex, dtype: int64"
      ]
     },
     "execution_count": 7,
     "metadata": {},
     "output_type": "execute_result"
    }
   ],
   "source": [
    "# You can detect how distinct values for a variable - set dropna = False to include missing value\n",
    "strava_df['athlete.sex'].value_counts(dropna = False)"
   ]
  },
  {
   "cell_type": "code",
   "execution_count": 8,
   "metadata": {},
   "outputs": [],
   "source": [
    "# remove missing values\n",
    "# when inplace = True, do operation inplace and return None\n",
    "strava_df['athlete.sex'].dropna(axis=0, inplace=True)"
   ]
  },
  {
   "cell_type": "code",
   "execution_count": 9,
   "metadata": {},
   "outputs": [
    {
     "data": {
      "text/plain": [
       "M    4084\n",
       "F    3824\n",
       "Name: athlete.sex, dtype: int64"
      ]
     },
     "execution_count": 9,
     "metadata": {},
     "output_type": "execute_result"
    }
   ],
   "source": [
    "# check again for missing value\n",
    "strava_df['athlete.sex'].value_counts(dropna = False)"
   ]
  },
  {
   "cell_type": "code",
   "execution_count": 10,
   "metadata": {},
   "outputs": [
    {
     "data": {
      "text/plain": [
       "7411"
      ]
     },
     "execution_count": 10,
     "metadata": {},
     "output_type": "execute_result"
    }
   ],
   "source": [
    "# Alternatively, you can just count the number of missing values. Especially when you deal with numeric variables\n",
    "pd.isnull(strava_df['suffer_score']).sum()"
   ]
  },
  {
   "cell_type": "code",
   "execution_count": 11,
   "metadata": {},
   "outputs": [
    {
     "data": {
      "text/plain": [
       "10    55.0\n",
       "11     NaN\n",
       "12     NaN\n",
       "13     NaN\n",
       "14     NaN\n",
       "15     NaN\n",
       "16     NaN\n",
       "17     NaN\n",
       "18     NaN\n",
       "19     NaN\n",
       "Name: suffer_score, dtype: float64"
      ]
     },
     "execution_count": 11,
     "metadata": {},
     "output_type": "execute_result"
    }
   ],
   "source": [
    "# let's take a look at a small extract of this variable\n",
    "strava_df['suffer_score'].iloc[10:20]"
   ]
  },
  {
   "cell_type": "code",
   "execution_count": 12,
   "metadata": {},
   "outputs": [
    {
     "name": "stdout",
     "output_type": "stream",
     "text": [
      "10    55.0\n",
      "11    56.0\n",
      "12    56.0\n",
      "13    56.0\n",
      "14    56.0\n",
      "15    56.0\n",
      "16    56.0\n",
      "17    56.0\n",
      "18    56.0\n",
      "19    56.0\n",
      "Name: suffer_score, dtype: float64\n"
     ]
    }
   ],
   "source": [
    "# instead of removing missing values, you can fill missing values - data imputation\n",
    "# for example, we can use median to replace missing values\n",
    "value_to_fill = strava_df['suffer_score'].median() \n",
    "strava_df['suffer_score'].fillna(value = value_to_fill, axis = 0, inplace = True)\n",
    "# Let's look at the data extract again\n",
    "print(strava_df['suffer_score'].iloc[10:20])"
   ]
  },
  {
   "cell_type": "markdown",
   "metadata": {},
   "source": [
    "### Correct Data Type"
   ]
  },
  {
   "cell_type": "code",
   "execution_count": 13,
   "metadata": {},
   "outputs": [
    {
     "data": {
      "text/plain": [
       "0    2014-08-27T20:55:26Z\n",
       "1    2015-08-04T07:25:02Z\n",
       "2    2015-05-17T18:38:04Z\n",
       "3    2014-05-26T08:20:53Z\n",
       "4    2013-12-19T17:05:16Z\n",
       "Name: start_date, dtype: object"
      ]
     },
     "execution_count": 13,
     "metadata": {},
     "output_type": "execute_result"
    }
   ],
   "source": [
    "# Examine the data type of the variable \"start_date\"\n",
    "strava_df['start_date'].head()"
   ]
  },
  {
   "cell_type": "markdown",
   "metadata": {},
   "source": [
    "We can see the start_date is of type object"
   ]
  },
  {
   "cell_type": "code",
   "execution_count": 14,
   "metadata": {},
   "outputs": [],
   "source": [
    "# Convert the object type to date \n",
    "strava_df['start_date'] = pd.to_datetime(strava_df['start_date'])"
   ]
  },
  {
   "cell_type": "code",
   "execution_count": 15,
   "metadata": {},
   "outputs": [
    {
     "data": {
      "text/plain": [
       "0   2014-08-27 20:55:26+00:00\n",
       "1   2015-08-04 07:25:02+00:00\n",
       "2   2015-05-17 18:38:04+00:00\n",
       "3   2014-05-26 08:20:53+00:00\n",
       "4   2013-12-19 17:05:16+00:00\n",
       "Name: start_date, dtype: datetime64[ns, UTC]"
      ]
     },
     "execution_count": 15,
     "metadata": {},
     "output_type": "execute_result"
    }
   ],
   "source": [
    "# Examine the result\n",
    "strava_df['start_date'].head()"
   ]
  },
  {
   "cell_type": "markdown",
   "metadata": {},
   "source": [
    "The start date is now converted to datetime"
   ]
  },
  {
   "cell_type": "markdown",
   "metadata": {},
   "source": [
    "### Detect Outliers"
   ]
  },
  {
   "cell_type": "code",
   "execution_count": 16,
   "metadata": {},
   "outputs": [
    {
     "data": {
      "image/png": "[encoded data removed]",
      "text/plain": [
       "<Figure size 432x288 with 1 Axes>"
      ]
     },
     "metadata": {
      "needs_background": "light"
     },
     "output_type": "display_data"
    }
   ],
   "source": [
    "# Detecting Outliers using visualization\n",
    "plt.boxplot(strava_df['distance'])\n",
    "plt.show()"
   ]
  },
  {
   "cell_type": "code",
   "execution_count": 17,
   "metadata": {},
   "outputs": [
    {
     "name": "stdout",
     "output_type": "stream",
     "text": [
      "23904.6\n"
     ]
    }
   ],
   "source": [
    "# Finding Interquartile range -  the difference between 75th and 25th quantiles\n",
    "# lower quantile\n",
    "Q1 = strava_df['distance'].quantile(0.25)\n",
    "# upper quantile\n",
    "Q3 = strava_df['distance'].quantile(0.75)\n",
    "IQR = Q3 - Q1\n",
    "print(IQR)"
   ]
  },
  {
   "cell_type": "code",
   "execution_count": 18,
   "metadata": {},
   "outputs": [
    {
     "data": {
      "text/plain": [
       "(565,)"
      ]
     },
     "execution_count": 18,
     "metadata": {},
     "output_type": "execute_result"
    }
   ],
   "source": [
    "# IQR Rule for Outliers\n",
    "condition = (strava_df['distance'] < (Q1 - 1.5 * IQR)) |(strava_df['distance'] > (Q3 + 1.5 * IQR))\n",
    "outliers = strava_df['distance'][condition]\n",
    "outliers.shape"
   ]
  },
  {
   "cell_type": "code",
   "execution_count": 20,
   "metadata": {
    "scrolled": true
   },
   "outputs": [
    {
     "data": {
      "text/plain": [
       "0       21580.0\n",
       "1       19092.8\n",
       "2       23023.4\n",
       "4        2739.8\n",
       "5       13056.7\n",
       "6       24438.8\n",
       "7        9447.6\n",
       "8           0.0\n",
       "9        4814.0\n",
       "10      33632.8\n",
       "11      15818.6\n",
       "12      16014.5\n",
       "13       3157.1\n",
       "14      10628.8\n",
       "15      62910.9\n",
       "16       5000.0\n",
       "17      28765.1\n",
       "19      32186.9\n",
       "20      41926.3\n",
       "21      43609.3\n",
       "22      25781.1\n",
       "23       8371.3\n",
       "24      48415.5\n",
       "25       6042.5\n",
       "26      34499.3\n",
       "27      21587.8\n",
       "28      63273.8\n",
       "29      54424.2\n",
       "30      10122.0\n",
       "31       6063.5\n",
       "         ...   \n",
       "8060    22881.0\n",
       "8061     6124.9\n",
       "8063    37085.1\n",
       "8064    56494.4\n",
       "8065    30373.0\n",
       "8066     1786.8\n",
       "8067    15114.6\n",
       "8068    24143.9\n",
       "8070      833.4\n",
       "8071     6041.3\n",
       "8072    38748.2\n",
       "8073    24481.5\n",
       "8074     8011.4\n",
       "8075    22547.9\n",
       "8076    21009.2\n",
       "8077    30143.3\n",
       "8078     6523.1\n",
       "8079     2680.4\n",
       "8080     3366.2\n",
       "8081    54122.9\n",
       "8082    33359.0\n",
       "8084        0.0\n",
       "8085     8155.3\n",
       "8086     3218.7\n",
       "8087     3521.8\n",
       "8088    36105.8\n",
       "8089    15747.0\n",
       "8090    14904.3\n",
       "8091     4638.6\n",
       "8092    38714.9\n",
       "Name: distance, Length: 7528, dtype: float64"
      ]
     },
     "execution_count": 20,
     "metadata": {},
     "output_type": "execute_result"
    }
   ],
   "source": [
    "# You can have a subset without the outlier\n",
    "# But outliers are not errors so I don't recommend that you remove it from the dataset unless there is a good reason\n",
    "strava_df['distance'][~condition]\n",
    "# If you want to drop it\n",
    "#strava_df['distance'].dropna(axis=0, inplace = True)\n",
    "#strava_df.shape"
   ]
  },
  {
   "cell_type": "code",
   "execution_count": 21,
   "metadata": {},
   "outputs": [
    {
     "data": {
      "image/png": "[encoded data removed]",
      "text/plain": [
       "<Figure size 432x288 with 1 Axes>"
      ]
     },
     "metadata": {
      "needs_background": "light"
     },
     "output_type": "display_data"
    }
   ],
   "source": [
    "# to not show outliers in a boxplot - set showfliers = false\n",
    "plt.boxplot(strava_df['distance'], showfliers = False)\n",
    "plt.show()"
   ]
  },
  {
   "cell_type": "markdown",
   "metadata": {},
   "source": [
    "The plot looks better now"
   ]
  },
  {
   "cell_type": "markdown",
   "metadata": {},
   "source": [
    "### Text Cleaning"
   ]
  },
  {
   "cell_type": "code",
   "execution_count": 22,
   "metadata": {},
   "outputs": [
    {
     "data": {
      "text/plain": [
       "0     [-0.17 -78.49]\n",
       "1       [38.68 0.09]\n",
       "2     [42.42 -83.96]\n",
       "3      [53.93 -1.82]\n",
       "4    [37.86 -121.97]\n",
       "Name: end_latlng, dtype: object"
      ]
     },
     "execution_count": 22,
     "metadata": {},
     "output_type": "execute_result"
    }
   ],
   "source": [
    "# Let's take a look at the end latitude/longitude data\n",
    "strava_df['end_latlng'].head()"
   ]
  },
  {
   "cell_type": "markdown",
   "metadata": {},
   "source": [
    "#### Let's start with using strip() for text cleaning"
   ]
  },
  {
   "cell_type": "code",
   "execution_count": 23,
   "metadata": {},
   "outputs": [
    {
     "name": "stdout",
     "output_type": "stream",
     "text": [
      "0     -0.17 -78.49\n",
      "1       38.68 0.09\n",
      "2     42.42 -83.96\n",
      "3      53.93 -1.82\n",
      "4    37.86 -121.97\n",
      "Name: end_latlng, dtype: object\n"
     ]
    }
   ],
   "source": [
    "# Cleaning Text and extracting required information\n",
    "# Extract end point latitude and longitude in separate columns\n",
    "# First, let's get rid of the brackets\n",
    "processed_latlng = strava_df['end_latlng'].str.strip('[').str.strip(']')\n",
    "print(processed_latlng.head())"
   ]
  },
  {
   "cell_type": "code",
   "execution_count": 24,
   "metadata": {},
   "outputs": [],
   "source": [
    "# The data is in a text format \n",
    "# We want to seperate lat and lng just as how the start lat/lng are stored in this dataset\n",
    "end_lat, end_lng = processed_latlng.str.split(' ').str"
   ]
  },
  {
   "cell_type": "code",
   "execution_count": 25,
   "metadata": {},
   "outputs": [
    {
     "name": "stdout",
     "output_type": "stream",
     "text": [
      "0    -0.17\n",
      "1    38.68\n",
      "2    42.42\n",
      "3    53.93\n",
      "4    37.86\n",
      "Name: end_lat, dtype: float64\n"
     ]
    }
   ],
   "source": [
    "strava_df['end_lat'] = pd.to_numeric(end_lat)\n",
    "print(strava_df['end_lat'].head())"
   ]
  },
  {
   "cell_type": "code",
   "execution_count": 26,
   "metadata": {},
   "outputs": [
    {
     "name": "stdout",
     "output_type": "stream",
     "text": [
      "0    -78.49\n",
      "1      0.09\n",
      "2    -83.96\n",
      "3     -1.82\n",
      "4   -121.97\n",
      "Name: end_lng, dtype: float64\n"
     ]
    }
   ],
   "source": [
    "strava_df['end_lng'] = pd.to_numeric(end_lng)\n",
    "print(strava_df['end_lng'].head())"
   ]
  },
  {
   "cell_type": "markdown",
   "metadata": {},
   "source": [
    "#### Now, let's try to clean the text using regular expressions!"
   ]
  },
  {
   "cell_type": "code",
   "execution_count": 27,
   "metadata": {},
   "outputs": [],
   "source": [
    "def regex_func(x):\n",
    "    if x == x:\n",
    "        return re.findall(r\"[\\d\\-\\.]+\", x)\n",
    "    else:\n",
    "        return [np.NaN, np.NaN]"
   ]
  },
  {
   "cell_type": "code",
   "execution_count": 28,
   "metadata": {},
   "outputs": [],
   "source": [
    "end_lat, end_lng = strava_df['end_latlng'].apply(lambda x: regex_func(x)).str"
   ]
  },
  {
   "cell_type": "code",
   "execution_count": 29,
   "metadata": {},
   "outputs": [
    {
     "name": "stdout",
     "output_type": "stream",
     "text": [
      "0    -0.17\n",
      "1    38.68\n",
      "2    42.42\n",
      "3    53.93\n",
      "4    37.86\n",
      "Name: end_lat_2, dtype: float64\n"
     ]
    }
   ],
   "source": [
    "strava_df['end_lat_2'] = pd.to_numeric(end_lat)\n",
    "print(strava_df['end_lat_2'].head())"
   ]
  },
  {
   "cell_type": "code",
   "execution_count": 30,
   "metadata": {},
   "outputs": [
    {
     "name": "stdout",
     "output_type": "stream",
     "text": [
      "0    -78.49\n",
      "1      0.09\n",
      "2    -83.96\n",
      "3     -1.82\n",
      "4   -121.97\n",
      "Name: end_lng_2, dtype: float64\n"
     ]
    }
   ],
   "source": [
    "strava_df['end_lng_2'] = pd.to_numeric(end_lng)\n",
    "print(strava_df['end_lng_2'].head())"
   ]
  },
  {
   "cell_type": "markdown",
   "metadata": {},
   "source": [
    "## Exercise\n",
    "\n",
    "1. Report the number of missing values of countries of athletes.\n",
    "2. Report the outliers of time elapsed. Can you reason why there may be outliers in this column?\n",
    "3. Extract Time Zone without the location name. Eg: extract GMT+01:00 from (GMT+01:00) Europe/Amsterdam"
   ]
  },
  {
   "cell_type": "code",
   "execution_count": 49,
   "metadata": {},
   "outputs": [],
   "source": [
    "# Let's try to do it using regular expressions!\n",
    "def regex_func(x):\n",
    "    if x == x:\n",
    "        return re.search(r\"\\((.*)\\)\", x).group(1)\n",
    "    else:\n",
    "        return np.NaN"
   ]
  },
  {
   "cell_type": "markdown",
   "metadata": {},
   "source": [
    "1. Report the number of missing values of countries of athletes."
   ]
  },
  {
   "cell_type": "code",
   "execution_count": 42,
   "metadata": {
    "scrolled": true
   },
   "outputs": [
    {
     "name": "stdout",
     "output_type": "stream",
     "text": [
      "United States          2424\n",
      "United Kingdom         1770\n",
      "Australia               632\n",
      "Canada                  249\n",
      "France                  245\n",
      "Brazil                  236\n",
      "NaN                     200\n",
      "Spain                   163\n",
      "The Netherlands         133\n",
      "Italy                   114\n",
      "South Africa            107\n",
      "Germany                 100\n",
      "Norway                   79\n",
      "New Zealand              76\n",
      "Netherlands              73\n",
      "Nederland                69\n",
      "Italia                   68\n",
      "Ireland                  64\n",
      "España                   62\n",
      "Deutschland              59\n",
      "Portugal                 56\n",
      "Belgium                  48\n",
      "Norge                    47\n",
      "Japan                    47\n",
      "Thailand                 45\n",
      "Switzerland              39\n",
      "South Korea              36\n",
      "Colombia                 35\n",
      "Brasil                   35\n",
      "Sweden                   35\n",
      "                       ... \n",
      "Guam                      1\n",
      "Storbritannien            1\n",
      "Việt Nam                  1\n",
      "Egypt                     1\n",
      "영국                        1\n",
      "Verenigde Staten          1\n",
      "Grenada                   1\n",
      "Singapour                 1\n",
      "Monaco                    1\n",
      "Luxemburg                 1\n",
      "Royaume-Uni               1\n",
      "Marshall Islands          1\n",
      "Cyprus                    1\n",
      "Dominican Republic        1\n",
      "Papua New Guinea          1\n",
      "Vietnam                   1\n",
      "Bermuda                   1\n",
      "România                   1\n",
      "Uruguay                   1\n",
      "България                  1\n",
      "Reino Unido               1\n",
      "Bolivia                   1\n",
      "Verenigd Koninkrijk       1\n",
      "Sint Maarten              1\n",
      "Indien                    1\n",
      "Italien                   1\n",
      "Suriname                  1\n",
      "台灣                        1\n",
      "Bélgica                   1\n",
      "Estados Unidos            1\n",
      "Name: athlete.country, Length: 145, dtype: int64\n",
      "Number of missing values for Country column: 200\n"
     ]
    }
   ],
   "source": [
    "print(strava_df['athlete.country'].value_counts(dropna=False))\n",
    "print('Number of missing values for Country column:',sum(strava_df['athlete.country'].isnull()))"
   ]
  },
  {
   "cell_type": "markdown",
   "metadata": {},
   "source": [
    "Number of mission values for the country column in strava dataset is 200"
   ]
  },
  {
   "cell_type": "markdown",
   "metadata": {},
   "source": [
    "2. Report the outliers of time elapsed. Can you reason why there may be outliers in this column?"
   ]
  },
  {
   "cell_type": "code",
   "execution_count": 43,
   "metadata": {},
   "outputs": [
    {
     "data": {
      "text/plain": [
       "0     8697\n",
       "1     5370\n",
       "2     4409\n",
       "3    20117\n",
       "4     1682\n",
       "Name: elapsed_time, dtype: int64"
      ]
     },
     "execution_count": 43,
     "metadata": {},
     "output_type": "execute_result"
    }
   ],
   "source": [
    "# Checking the data in the elapsed_time column\n",
    "strava_df['elapsed_time'].head()"
   ]
  },
  {
   "cell_type": "code",
   "execution_count": 44,
   "metadata": {},
   "outputs": [
    {
     "data": {
      "image/png": "[encoded data removed]",
      "text/plain": [
       "<Figure size 432x288 with 1 Axes>"
      ]
     },
     "metadata": {
      "needs_background": "light"
     },
     "output_type": "display_data"
    }
   ],
   "source": [
    "# Creating aboxplot for time elapsed column\n",
    "plt.boxplot(strava_df['elapsed_time'])\n",
    "plt.show()"
   ]
  },
  {
   "cell_type": "code",
   "execution_count": null,
   "metadata": {},
   "outputs": [],
   "source": [
    "# Finding Interquartile range -  the difference between 75th and 25th quantiles\n",
    "# lower quantile\n",
    "Q1 = strava_df['elapsed_time'].quantile(0.25)\n",
    "# upper quantile\n",
    "Q3 = strava_df['elapsed_time'].quantile(0.75)\n",
    "IQR = Q3 - Q1\n",
    "print(IQR)"
   ]
  },
  {
   "cell_type": "code",
   "execution_count": 45,
   "metadata": {},
   "outputs": [
    {
     "data": {
      "text/plain": [
       "(71,)"
      ]
     },
     "execution_count": 45,
     "metadata": {},
     "output_type": "execute_result"
    }
   ],
   "source": [
    "# IQR Rule for Outliers\n",
    "condition = (strava_df['elapsed_time'] < (Q1 - 1.5 * IQR)) |(strava_df['elapsed_time'] > (Q3 + 1.5 * IQR))\n",
    "outliers = strava_df['elapsed_time'][condition]\n",
    "outliers.shape"
   ]
  },
  {
   "cell_type": "code",
   "execution_count": 61,
   "metadata": {},
   "outputs": [
    {
     "data": {
      "image/png": "[encoded data removed]",
      "text/plain": [
       "<Figure size 432x288 with 1 Axes>"
      ]
     },
     "metadata": {
      "needs_background": "light"
     },
     "output_type": "display_data"
    }
   ],
   "source": [
    "# to not show outliers in a boxplot - set showfliers = false\n",
    "plt.boxplot(strava_df['elapsed_time'], showfliers = False)\n",
    "plt.show()"
   ]
  },
  {
   "cell_type": "code",
   "execution_count": 47,
   "metadata": {},
   "outputs": [
    {
     "data": {
      "text/plain": [
       "array([  137935,   176919,  6475149,   810885,   100526,   260955,\n",
       "          82961,   645896,    66991,    74037,   256361,   485906,\n",
       "         621598,    88589,  6048240,    68581,   221622,   676954,\n",
       "        6058298,   109897,   675679,   146993,   438671,    83505,\n",
       "         153516,    82531,    85157,   164252,   388336,   239781,\n",
       "         558520,   137053,  1005442,   161809,  1007715,   103267,\n",
       "         107172,   259051,   173298,   180918,   175135,    98167,\n",
       "         209016,    87557, 11575803,  1540912,   260955,    84010,\n",
       "        1385969,   133348,  3632396,    96828,   199304,    74751,\n",
       "        7726502,    81583,   418895,   108653,   891443,   528330,\n",
       "         245630,   188267,   157838,   611244,   269830,   117943,\n",
       "        3350544,   130646,   692808,   265667,    86783], dtype=int64)"
      ]
     },
     "execution_count": 47,
     "metadata": {},
     "output_type": "execute_result"
    }
   ],
   "source": [
    "#Printing Outlier values\n",
    "outliers.values"
   ]
  },
  {
   "cell_type": "markdown",
   "metadata": {},
   "source": [
    "Above list show all the 71 outliers for the time elapsed column in the strava dataset. These are those values which are higher than (Q3 + 1.5 * IQR) and less than (Q1 - 1.5 * IQR). \n",
    "\n",
    "The reason for outliers in this column is duw to the fact that athlets can have varying time elapsed values based on the activity they are participating in and hence it can show a wide range of values for this columns. It can also be due to the fact that not same number of people will be participating in all the activites which can lead to a subset of smaller or higher values based on the time of activity. Outliers can sometimes be present due to human error in entry as well in which case it is more advisable to either remove them or replace them with the average value or other other method to fix the incorrect entry."
   ]
  },
  {
   "cell_type": "markdown",
   "metadata": {},
   "source": [
    "3. Extract Time Zone without the location name. Eg: extract GMT+01:00 from (GMT+01:00) Europe/Amsterdam"
   ]
  },
  {
   "cell_type": "code",
   "execution_count": 54,
   "metadata": {
    "scrolled": true
   },
   "outputs": [
    {
     "data": {
      "text/plain": [
       "0       GMT-05:00\n",
       "1       GMT+01:00\n",
       "2       GMT-05:00\n",
       "3       GMT+00:00\n",
       "4       GMT-08:00\n",
       "5       GMT+00:00\n",
       "6       GMT+02:00\n",
       "7       GMT-05:00\n",
       "8       GMT+00:00\n",
       "9       GMT+00:00\n",
       "10      GMT+00:00\n",
       "11      GMT+00:00\n",
       "12      GMT-08:00\n",
       "13      GMT+00:00\n",
       "14      GMT+10:00\n",
       "15      GMT+01:00\n",
       "16      GMT+08:00\n",
       "17      GMT+00:00\n",
       "18      GMT+10:00\n",
       "19      GMT-07:00\n",
       "20      GMT-06:00\n",
       "21      GMT-05:00\n",
       "22      GMT+01:00\n",
       "23      GMT-08:00\n",
       "24      GMT-07:00\n",
       "25      GMT-05:00\n",
       "26      GMT+00:00\n",
       "27      GMT+02:00\n",
       "28      GMT+01:00\n",
       "29      GMT+01:00\n",
       "          ...    \n",
       "8063    GMT-08:00\n",
       "8064    GMT+01:00\n",
       "8065    GMT+01:00\n",
       "8066    GMT-08:00\n",
       "8067    GMT+02:00\n",
       "8068    GMT+00:00\n",
       "8069    GMT-06:00\n",
       "8070    GMT-05:00\n",
       "8071    GMT-08:00\n",
       "8072    GMT+00:00\n",
       "8073    GMT-07:00\n",
       "8074    GMT+01:00\n",
       "8075    GMT+09:30\n",
       "8076    GMT+04:00\n",
       "8077    GMT+01:00\n",
       "8078    GMT+10:00\n",
       "8079    GMT+00:00\n",
       "8080    GMT+00:00\n",
       "8081    GMT+12:00\n",
       "8082    GMT+10:00\n",
       "8083    GMT-05:00\n",
       "8084    GMT-05:00\n",
       "8085    GMT+00:00\n",
       "8086    GMT-05:00\n",
       "8087    GMT+00:00\n",
       "8088    GMT-07:00\n",
       "8089    GMT+10:00\n",
       "8090    GMT-06:00\n",
       "8091    GMT+00:00\n",
       "8092    GMT+08:00\n",
       "Name: timezone, Length: 8093, dtype: object"
      ]
     },
     "execution_count": 54,
     "metadata": {},
     "output_type": "execute_result"
    }
   ],
   "source": [
    "#Extracting time zone without the location name\n",
    "time_zone = strava_df['timezone'].apply(lambda x: regex_func(x))\n",
    "time_zone"
   ]
  },
  {
   "cell_type": "markdown",
   "metadata": {},
   "source": [
    "The above shows are the timezones extracted without location name using the regex_function above."
   ]
  }
 ],
 "metadata": {
  "kernelspec": {
   "display_name": "Python 3",
   "language": "python",
   "name": "python3"
  },
  "language_info": {
   "codemirror_mode": {
    "name": "ipython",
    "version": 3
   },
   "file_extension": ".py",
   "mimetype": "text/x-python",
   "name": "python",
   "nbconvert_exporter": "python",
   "pygments_lexer": "ipython3",
   "version": "3.6.8"
  }
 },
 "nbformat": 4,
 "nbformat_minor": 2
}
