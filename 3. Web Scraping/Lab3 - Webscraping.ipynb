{
 "cells": [
  {
   "cell_type": "markdown",
   "metadata": {},
   "source": [
    "# Lab 3: Web Scraping\n",
    "\n",
    "## Instructor: Li Zeng (lizeng@uw.edu)\n",
    "## Date: 04/17/2019\n",
    "\n",
    "### Learning Objectives:\n",
    "By the end of the lab, you will be able to\n",
    "* retrieve information from websites of interest\n",
    "* use find() and find_all() to search for tags\n",
    "* extract targeted content \n",
    "* implement basic text cleaning using strip()"
   ]
  },
  {
   "cell_type": "code",
   "execution_count": 1,
   "metadata": {},
   "outputs": [],
   "source": [
    "# Import requests package to request webpage information\n",
    "import requests\n",
    "# Import BeautifulSoup to parse HTML\n",
    "from bs4 import BeautifulSoup"
   ]
  },
  {
   "cell_type": "code",
   "execution_count": 2,
   "metadata": {},
   "outputs": [],
   "source": [
    "# Request webpage information\n",
    "r = requests.get('https://www.rottentomatoes.com/tv/sherlock')"
   ]
  },
  {
   "cell_type": "code",
   "execution_count": 3,
   "metadata": {},
   "outputs": [],
   "source": [
    "# Parse HTML document\n",
    "soup = BeautifulSoup(r.text, 'html.parser')"
   ]
  },
  {
   "cell_type": "code",
   "execution_count": 4,
   "metadata": {},
   "outputs": [],
   "source": [
    "# Search for movie synopsis\n",
    "movie_synopsis = soup.find(\"div\", {\"id\" : \"movieSynopsis\"})"
   ]
  },
  {
   "cell_type": "code",
   "execution_count": 5,
   "metadata": {},
   "outputs": [
    {
     "data": {
      "text/plain": [
       "<div class=\"movie_synopsis clamp clamp-6 clearfix\" id=\"movieSynopsis\">A modern adaptation of the crime novels of Arthur Conan Doyle.</div>"
      ]
     },
     "execution_count": 5,
     "metadata": {},
     "output_type": "execute_result"
    }
   ],
   "source": [
    "movie_synopsis"
   ]
  },
  {
   "cell_type": "code",
   "execution_count": 6,
   "metadata": {},
   "outputs": [
    {
     "data": {
      "text/plain": [
       "'A modern adaptation of the crime novels of Arthur Conan Doyle.'"
      ]
     },
     "execution_count": 6,
     "metadata": {},
     "output_type": "execute_result"
    }
   ],
   "source": [
    "# To get raw text of movie synopsis\n",
    "movie_synopsis.text"
   ]
  },
  {
   "cell_type": "code",
   "execution_count": 7,
   "metadata": {},
   "outputs": [
    {
     "name": "stdout",
     "output_type": "stream",
     "text": [
      "Calling get_text():\n",
      "A modern adaptation of the crime novels of Arthur Conan Doyle.\n",
      "------------------\n"
     ]
    }
   ],
   "source": [
    "# You can use strip() to get rid of extra whitespaces;\n",
    "# you can also pass strip parameter to BeautifulSoup get_text() function!\n",
    "# note that you might find out this cleaning is pretty rough\n",
    "# you will learn more on data cleaning next week\n",
    "print(\"Calling get_text():\")\n",
    "print(movie_synopsis.get_text(\"\", strip = True))\n",
    "print(\"------------------\")"
   ]
  },
  {
   "cell_type": "markdown",
   "metadata": {},
   "source": [
    "### Exercise:\n",
    "\n",
    "1. Scrape the Average Tomatometer of the Sherlock (https://www.rottentomatoes.com/tv/sherlock).\n",
    "\n",
    "2. Scrape the following Series Details on this page and format the data as the following table:\n",
    "\n",
    "| Column              | Value                                                   |\n",
    "|---------------------|---------------------------------------------------------|\n",
    "| TV Network          |                           PBS                           |\n",
    "| Premiere Date       | Oct 24, 2010                                            |\n",
    "| Genre               | Mystery                                                 |\n",
    "| Executive Producers | Mark Gatiss, Steven Moffat, Beryl Vertue, Rebecca Eaton |"
   ]
  },
  {
   "cell_type": "code",
   "execution_count": 8,
   "metadata": {},
   "outputs": [],
   "source": [
    "# Request webpage information\n",
    "r = requests.get('https://www.rottentomatoes.com/tv/sherlock')\n",
    "# Parse HTML document\n",
    "soup = BeautifulSoup(r.text, 'html.parser')"
   ]
  },
  {
   "cell_type": "code",
   "execution_count": 9,
   "metadata": {},
   "outputs": [],
   "source": [
    "# Search for series details\n",
    "detail_panel = soup.find(\"section\", {\"id\" : \"detail_panel\"})"
   ]
  },
  {
   "cell_type": "code",
   "execution_count": 10,
   "metadata": {},
   "outputs": [
    {
     "data": {
      "text/plain": [
       "'Series Details TV Network: PBS Premiere Date: Oct 24, 2010 Genre: Mystery & Suspense Executive Producers: Mark Gatiss , Steven Moffat , Beryl Vertue , Rebecca Eaton Quick Links Full Cast Related News & Interviews Trailers & Clips Pictures'"
      ]
     },
     "execution_count": 10,
     "metadata": {},
     "output_type": "execute_result"
    }
   ],
   "source": [
    "detail_panel.get_text(\" \", strip = True)"
   ]
  },
  {
   "cell_type": "code",
   "execution_count": 11,
   "metadata": {},
   "outputs": [
    {
     "data": {
      "text/plain": [
       "<table>\n",
       "<tr>\n",
       "<td class=\"fgm\">TV Network:</td>\n",
       "<td>PBS</td>\n",
       "</tr>\n",
       "<tr>\n",
       "<td class=\"fgm\" style=\"text-align:left\">Premiere Date:</td>\n",
       "<td>Oct 24, 2010</td>\n",
       "</tr>\n",
       "<tr>\n",
       "<td class=\"fgm\" style=\"text-align:left\">Genre:</td>\n",
       "<td>Mystery &amp; Suspense</td>\n",
       "</tr>\n",
       "<tr class=\"execProducers\">\n",
       "<td class=\"fgm\" style=\"text-align:left\">\n",
       "                             Executive Producers:\n",
       "                         </td>\n",
       "<td>\n",
       "<a href=\"/celebrity/mark_gatiss\">Mark Gatiss</a>, \n",
       "                    \n",
       "                        <a href=\"/celebrity/steven_moffat\">Steven Moffat</a>, \n",
       "                    \n",
       "                        <a href=\"/celebrity/beryl_vertue\">Beryl Vertue</a>, \n",
       "                    \n",
       "                        <a href=\"/celebrity/rebecca_eaton\">Rebecca Eaton</a>\n",
       "</td></tr>\n",
       "</table>"
      ]
     },
     "execution_count": 11,
     "metadata": {},
     "output_type": "execute_result"
    }
   ],
   "source": [
    "table = soup.find(\"table\", {\"id\" : \"\"})\n",
    "table"
   ]
  },
  {
   "cell_type": "code",
   "execution_count": 12,
   "metadata": {},
   "outputs": [
    {
     "data": {
      "text/plain": [
       "[<td class=\"fgm\">TV Network:</td>,\n",
       " <td>PBS</td>,\n",
       " <td class=\"fgm\" style=\"text-align:left\">Premiere Date:</td>,\n",
       " <td>Oct 24, 2010</td>,\n",
       " <td class=\"fgm\" style=\"text-align:left\">Genre:</td>,\n",
       " <td>Mystery &amp; Suspense</td>,\n",
       " <td class=\"fgm\" style=\"text-align:left\">\n",
       "                              Executive Producers:\n",
       "                          </td>,\n",
       " <td>\n",
       " <a href=\"/celebrity/mark_gatiss\">Mark Gatiss</a>, \n",
       "                     \n",
       "                         <a href=\"/celebrity/steven_moffat\">Steven Moffat</a>, \n",
       "                     \n",
       "                         <a href=\"/celebrity/beryl_vertue\">Beryl Vertue</a>, \n",
       "                     \n",
       "                         <a href=\"/celebrity/rebecca_eaton\">Rebecca Eaton</a>\n",
       " </td>]"
      ]
     },
     "execution_count": 12,
     "metadata": {},
     "output_type": "execute_result"
    }
   ],
   "source": [
    "table_content = table.findAll('td')\n",
    "table_content"
   ]
  },
  {
   "cell_type": "code",
   "execution_count": 13,
   "metadata": {},
   "outputs": [
    {
     "name": "stdout",
     "output_type": "stream",
     "text": [
      "['TV Network', 'PBS', 'Premiere Date', 'Oct 24, 2010', 'Genre', 'Mystery & Suspense', 'Executive Producers', 'Mark Gatiss , Steven Moffat , Beryl Vertue , Rebecca Eaton']\n",
      "8\n"
     ]
    }
   ],
   "source": [
    "l=[]\n",
    "for text in table_content:\n",
    "    l.append(text.get_text(\" \", strip = True).strip(':'))\n",
    "print(l)\n",
    "print(len(l))"
   ]
  },
  {
   "cell_type": "code",
   "execution_count": 14,
   "metadata": {},
   "outputs": [],
   "source": [
    "import pandas as pd\n",
    "c=[]\n",
    "v=[]\n",
    "for i in range(0,8,2):\n",
    "    c.append(l[i])\n",
    "    v.append(l[i+1])"
   ]
  },
  {
   "cell_type": "code",
   "execution_count": 15,
   "metadata": {},
   "outputs": [
    {
     "data": {
      "text/html": [
       "<style  type=\"text/css\" >\n",
       "</style><table id=\"T_15ddb522_64bf_11e9_9a5f_9cb6d0ea6b78\" ><thead>    <tr>        <th class=\"col_heading level0 col0\" >Column</th>        <th class=\"col_heading level0 col1\" >Value</th>    </tr></thead><tbody>\n",
       "                <tr>\n",
       "                                <td id=\"T_15ddb522_64bf_11e9_9a5f_9cb6d0ea6b78row0_col0\" class=\"data row0 col0\" >TV Network</td>\n",
       "                        <td id=\"T_15ddb522_64bf_11e9_9a5f_9cb6d0ea6b78row0_col1\" class=\"data row0 col1\" >PBS</td>\n",
       "            </tr>\n",
       "            <tr>\n",
       "                                <td id=\"T_15ddb522_64bf_11e9_9a5f_9cb6d0ea6b78row1_col0\" class=\"data row1 col0\" >Premiere Date</td>\n",
       "                        <td id=\"T_15ddb522_64bf_11e9_9a5f_9cb6d0ea6b78row1_col1\" class=\"data row1 col1\" >Oct 24, 2010</td>\n",
       "            </tr>\n",
       "            <tr>\n",
       "                                <td id=\"T_15ddb522_64bf_11e9_9a5f_9cb6d0ea6b78row2_col0\" class=\"data row2 col0\" >Genre</td>\n",
       "                        <td id=\"T_15ddb522_64bf_11e9_9a5f_9cb6d0ea6b78row2_col1\" class=\"data row2 col1\" >Mystery & Suspense</td>\n",
       "            </tr>\n",
       "            <tr>\n",
       "                                <td id=\"T_15ddb522_64bf_11e9_9a5f_9cb6d0ea6b78row3_col0\" class=\"data row3 col0\" >Executive Producers</td>\n",
       "                        <td id=\"T_15ddb522_64bf_11e9_9a5f_9cb6d0ea6b78row3_col1\" class=\"data row3 col1\" >Mark Gatiss , Steven Moffat , Beryl Vertue , Rebecca Eaton</td>\n",
       "            </tr>\n",
       "    </tbody></table>"
      ],
      "text/plain": [
       "<pandas.io.formats.style.Styler at 0x19747b9dd30>"
      ]
     },
     "execution_count": 15,
     "metadata": {},
     "output_type": "execute_result"
    }
   ],
   "source": [
    "table =pd.DataFrame()\n",
    "table['Column'] = c\n",
    "table['Value'] = v\n",
    "table.style.set_properties(subset=['Value'], **{'width': '400px'})\n",
    "table.style.hide_index()"
   ]
  }
 ],
 "metadata": {
  "kernelspec": {
   "display_name": "Python 3",
   "language": "python",
   "name": "python3"
  },
  "language_info": {
   "codemirror_mode": {
    "name": "ipython",
    "version": 3
   },
   "file_extension": ".py",
   "mimetype": "text/x-python",
   "name": "python",
   "nbconvert_exporter": "python",
   "pygments_lexer": "ipython3",
   "version": "3.6.8"
  }
 },
 "nbformat": 4,
 "nbformat_minor": 1
}
